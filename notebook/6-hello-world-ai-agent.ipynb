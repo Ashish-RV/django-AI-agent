{
 "cells": [
  {
   "cell_type": "code",
   "execution_count": 7,
   "metadata": {},
   "outputs": [],
   "source": [
    "import setup\n",
    "setup.init()"
   ]
  },
  {
   "cell_type": "code",
   "execution_count": 8,
   "metadata": {},
   "outputs": [],
   "source": [
    "from ai.agents import get_document_agent"
   ]
  },
  {
   "cell_type": "code",
   "execution_count": 9,
   "metadata": {},
   "outputs": [],
   "source": [
    "agent = get_document_agent()"
   ]
  },
  {
   "cell_type": "code",
   "execution_count": 13,
   "metadata": {},
   "outputs": [],
   "source": [
    "import uuid\n",
    "config = {\"configurable\":{\"user_id\":\"2\", \"thread_id\":uuid.uuid4()}}\n",
    "response=agent.invoke(\n",
    "            {\"messages\":\n",
    "            [\n",
    "                {\"role\":\"user\",\"content\":\"what are my recent documents? ?\"}\n",
    "                \n",
    "            ]\n",
    "            },\n",
    "            config\n",
    "            )"
   ]
  },
  {
   "cell_type": "code",
   "execution_count": 14,
   "metadata": {},
   "outputs": [
    {
     "name": "stdout",
     "output_type": "stream",
     "text": [
      "what are my recent documents? ?\n",
      "\n",
      "[{\"id\": 4, \"title\": \"comedy\"}, {\"id\": 3, \"title\": \"Title\"}, {\"id\": 2, \"title\": \" hello world\"}, {\"id\": 1, \"title\": \" hellow world\"}]\n",
      "Your recent documents are:\n",
      "\n",
      "1. **Title:** comedy (ID: 4)\n",
      "2. **Title:** Title (ID: 3)\n",
      "3. **Title:** hello world (ID: 2)\n",
      "4. **Title:** hellow world (ID: 1)\n"
     ]
    }
   ],
   "source": [
    "for msg in response['messages']:\n",
    "    print(msg.content)"
   ]
  }
 ],
 "metadata": {
  "kernelspec": {
   "display_name": "Python 3.13.5 ('venv': venv)",
   "language": "python",
   "name": "python3"
  },
  "language_info": {
   "codemirror_mode": {
    "name": "ipython",
    "version": 3
   },
   "file_extension": ".py",
   "mimetype": "text/x-python",
   "name": "python",
   "nbconvert_exporter": "python",
   "pygments_lexer": "ipython3",
   "version": "3.13.5"
  },
  "orig_nbformat": 4,
  "vscode": {
   "interpreter": {
    "hash": "83953f9690f31260c22943bfc8f50814e3211efb16e7bd73769c2e744886ad92"
   }
  }
 },
 "nbformat": 4,
 "nbformat_minor": 2
}
