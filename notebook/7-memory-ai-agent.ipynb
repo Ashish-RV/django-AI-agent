{
 "cells": [
  {
   "cell_type": "code",
   "execution_count": 1,
   "metadata": {},
   "outputs": [],
   "source": [
    "import setup\n",
    "setup.init()\n"
   ]
  },
  {
   "cell_type": "code",
   "execution_count": 2,
   "metadata": {},
   "outputs": [],
   "source": [
    "from ai.agents import get_document_agent"
   ]
  },
  {
   "cell_type": "code",
   "execution_count": 3,
   "metadata": {},
   "outputs": [],
   "source": [
    "from langgraph.checkpoint.memory import InMemorySaver\n",
    "checkpointer = InMemorySaver()"
   ]
  },
  {
   "cell_type": "markdown",
   "metadata": {},
   "source": []
  },
  {
   "cell_type": "code",
   "execution_count": 4,
   "metadata": {},
   "outputs": [],
   "source": [
    "agent = get_document_agent(model='gpt-4o-mini', checkpointer=checkpointer)"
   ]
  },
  {
   "cell_type": "code",
   "execution_count": 5,
   "metadata": {},
   "outputs": [],
   "source": [
    "import uuid\n",
    "config = {\"configurable\":{\"user_id\":\"2\",\"thread_id\":uuid.uuid4()}}\n",
    "response=agent.invoke(\n",
    "            {\"messages\":\n",
    "            [\n",
    "                {\"role\":\"user\",\"content\":\"what are my recent documents? ?\"}\n",
    "                \n",
    "            ]\n",
    "            },\n",
    "            config\n",
    "            )"
   ]
  },
  {
   "cell_type": "code",
   "execution_count": 6,
   "metadata": {},
   "outputs": [
    {
     "data": {
      "text/plain": [
       "[HumanMessage(content='what are my recent documents? ?', additional_kwargs={}, response_metadata={}, id='95b1df56-9e99-482d-b448-a3fe3bb87f9e'),\n",
       " AIMessage(content='', additional_kwargs={'tool_calls': [{'id': 'call_pmdkEX85JwyKNxvKSY3AOd6k', 'function': {'arguments': '{}', 'name': 'list_documents'}, 'type': 'function'}], 'refusal': None}, response_metadata={'token_usage': {'completion_tokens': 10, 'prompt_tokens': 128, 'total_tokens': 138, 'completion_tokens_details': {'accepted_prediction_tokens': 0, 'audio_tokens': 0, 'reasoning_tokens': 0, 'rejected_prediction_tokens': 0}, 'prompt_tokens_details': {'audio_tokens': 0, 'cached_tokens': 0}}, 'model_name': 'gpt-4o-mini-2024-07-18', 'system_fingerprint': 'fp_34a54ae93c', 'id': 'chatcmpl-Bpxxav3F2XF5yoGOJvNfPXrwl083A', 'service_tier': 'default', 'finish_reason': 'tool_calls', 'logprobs': None}, id='run--200fb201-f2a1-4ed2-9e32-01c06c16dd64-0', tool_calls=[{'name': 'list_documents', 'args': {}, 'id': 'call_pmdkEX85JwyKNxvKSY3AOd6k', 'type': 'tool_call'}], usage_metadata={'input_tokens': 128, 'output_tokens': 10, 'total_tokens': 138, 'input_token_details': {'audio': 0, 'cache_read': 0}, 'output_token_details': {'audio': 0, 'reasoning': 0}}),\n",
       " ToolMessage(content='[{\"id\": 4, \"title\": \"comedy\"}, {\"id\": 3, \"title\": \"Title\"}, {\"id\": 2, \"title\": \" hello world\"}, {\"id\": 1, \"title\": \" hellow world\"}]', name='list_documents', id='c76eede6-74f3-423d-9d06-dfad7ee839b2', tool_call_id='call_pmdkEX85JwyKNxvKSY3AOd6k'),\n",
       " AIMessage(content='Here are your most recent documents:\\n\\n1. **Title:** comedy (ID: 4)\\n2. **Title:** Title (ID: 3)\\n3. **Title:** hello world (ID: 2)\\n4. **Title:** hellow world (ID: 1)', additional_kwargs={'refusal': None}, response_metadata={'token_usage': {'completion_tokens': 59, 'prompt_tokens': 200, 'total_tokens': 259, 'completion_tokens_details': {'accepted_prediction_tokens': 0, 'audio_tokens': 0, 'reasoning_tokens': 0, 'rejected_prediction_tokens': 0}, 'prompt_tokens_details': {'audio_tokens': 0, 'cached_tokens': 0}}, 'model_name': 'gpt-4o-mini-2024-07-18', 'system_fingerprint': 'fp_34a54ae93c', 'id': 'chatcmpl-BpxxczZB11vlu7bqx6pObiBeJopXW', 'service_tier': 'default', 'finish_reason': 'stop', 'logprobs': None}, id='run--838f8b93-f771-47a3-a63a-d7a48b1ee90a-0', usage_metadata={'input_tokens': 200, 'output_tokens': 59, 'total_tokens': 259, 'input_token_details': {'audio': 0, 'cache_read': 0}, 'output_token_details': {'audio': 0, 'reasoning': 0}}),\n",
       " HumanMessage(content='print hellow', additional_kwargs={}, response_metadata={}, id='1a45c79e-8e13-4ab5-99fd-f7fff6d4e76f'),\n",
       " AIMessage(content='', additional_kwargs={'tool_calls': [{'id': 'call_rWUW2zLEz0GBMfz4M7ZpcQWs', 'function': {'arguments': '{\"document_id\":1}', 'name': 'get_document'}, 'type': 'function'}], 'refusal': None}, response_metadata={'token_usage': {'completion_tokens': 15, 'prompt_tokens': 269, 'total_tokens': 284, 'completion_tokens_details': {'accepted_prediction_tokens': 0, 'audio_tokens': 0, 'reasoning_tokens': 0, 'rejected_prediction_tokens': 0}, 'prompt_tokens_details': {'audio_tokens': 0, 'cached_tokens': 0}}, 'model_name': 'gpt-4o-mini-2024-07-18', 'system_fingerprint': 'fp_34a54ae93c', 'id': 'chatcmpl-BpxxdyAMlyLOYW8Z6Jztgu2KxRrDv', 'service_tier': 'default', 'finish_reason': 'tool_calls', 'logprobs': None}, id='run--88beab46-a12b-43db-be17-4efb22108ac3-0', tool_calls=[{'name': 'get_document', 'args': {'document_id': 1}, 'id': 'call_rWUW2zLEz0GBMfz4M7ZpcQWs', 'type': 'tool_call'}], usage_metadata={'input_tokens': 269, 'output_tokens': 15, 'total_tokens': 284, 'input_token_details': {'audio': 0, 'cache_read': 0}, 'output_token_details': {'audio': 0, 'reasoning': 0}}),\n",
       " ToolMessage(content=\"[{'id': 1, 'title': ' hellow world', 'content': None, 'created_at': datetime.datetime(2025, 6, 15, 8, 19, 33, 555455, tzinfo=datetime.timezone.utc)}]\", name='get_document', id='050471ae-e9da-48bb-a654-b15fbd44c0cf', tool_call_id='call_rWUW2zLEz0GBMfz4M7ZpcQWs'),\n",
       " AIMessage(content='The document titled \"hellow world\" does not contain any content. It was created on June 15, 2025.', additional_kwargs={'refusal': None}, response_metadata={'token_usage': {'completion_tokens': 27, 'prompt_tokens': 349, 'total_tokens': 376, 'completion_tokens_details': {'accepted_prediction_tokens': 0, 'audio_tokens': 0, 'reasoning_tokens': 0, 'rejected_prediction_tokens': 0}, 'prompt_tokens_details': {'audio_tokens': 0, 'cached_tokens': 0}}, 'model_name': 'gpt-4o-mini-2024-07-18', 'system_fingerprint': 'fp_34a54ae93c', 'id': 'chatcmpl-Bpxy1tpgRqYSB39svjyXkbW43Xf5P', 'service_tier': 'default', 'finish_reason': 'stop', 'logprobs': None}, id='run--6f5233c8-fd47-4ac4-8cce-208afd6479ff-0', usage_metadata={'input_tokens': 349, 'output_tokens': 27, 'total_tokens': 376, 'input_token_details': {'audio': 0, 'cache_read': 0}, 'output_token_details': {'audio': 0, 'reasoning': 0}})]"
      ]
     },
     "execution_count": 6,
     "metadata": {},
     "output_type": "execute_result"
    }
   ],
   "source": [
    "response = agent.invoke({\"messages\":\n",
    "            [\n",
    "                {\"role\":\"user\",\"content\":\"print hellow\"}\n",
    "                \n",
    "            ]\n",
    "            },\n",
    "            config\n",
    "            )\n",
    "response['messages']\n"
   ]
  }
 ],
 "metadata": {
  "kernelspec": {
   "display_name": "Python 3.13.5 ('venv': venv)",
   "language": "python",
   "name": "python3"
  },
  "language_info": {
   "codemirror_mode": {
    "name": "ipython",
    "version": 3
   },
   "file_extension": ".py",
   "mimetype": "text/x-python",
   "name": "python",
   "nbconvert_exporter": "python",
   "pygments_lexer": "ipython3",
   "version": "3.13.5"
  },
  "orig_nbformat": 4,
  "vscode": {
   "interpreter": {
    "hash": "83953f9690f31260c22943bfc8f50814e3211efb16e7bd73769c2e744886ad92"
   }
  }
 },
 "nbformat": 4,
 "nbformat_minor": 2
}
