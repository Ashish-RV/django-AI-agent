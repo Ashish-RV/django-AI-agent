{
 "cells": [
  {
   "cell_type": "code",
   "execution_count": 1,
   "metadata": {},
   "outputs": [],
   "source": [
    "import setup\n",
    "setup.init()\n"
   ]
  },
  {
   "cell_type": "code",
   "execution_count": 2,
   "metadata": {},
   "outputs": [],
   "source": [
    "from ai.agents import get_document_agent"
   ]
  },
  {
   "cell_type": "code",
   "execution_count": 3,
   "metadata": {},
   "outputs": [],
   "source": [
    "from langgraph.checkpoint.memory import InMemorySaver\n",
    "checkpointer = InMemorySaver()"
   ]
  },
  {
   "cell_type": "markdown",
   "metadata": {},
   "source": []
  },
  {
   "cell_type": "code",
   "execution_count": 4,
   "metadata": {},
   "outputs": [],
   "source": [
    "agent = get_document_agent(model='gpt-4o-mini', checkpointer=checkpointer)"
   ]
  },
  {
   "cell_type": "code",
   "execution_count": 6,
   "metadata": {},
   "outputs": [],
   "source": [
    "import uuid\n",
    "config = {\"configurable\":{\"user_id\":\"2\",\"thread_id\":uuid.uuid4()}}\n",
    "response=agent.invoke(\n",
    "            {\"messages\":\n",
    "            [\n",
    "                {\"role\":\"user\",\"content\":\"what are my recent documents? ?\"}\n",
    "                \n",
    "            ]\n",
    "            },\n",
    "            config\n",
    "            )"
   ]
  },
  {
   "cell_type": "code",
   "execution_count": 7,
   "metadata": {},
   "outputs": [
    {
     "data": {
      "text/plain": [
       "'Yes, there are duplicates in your documents based on their titles. The titles \"hello world\" and \"hellow world\" are very similar, but they are not exact duplicates. However, if you are looking for exact duplicates, there are no exact duplicates in your recent documents. \\n\\nHere’s a summary of the titles:\\n\\n1. comedy\\n2. Title\\n3. hello world\\n4. hellow world\\n\\nIf you need further analysis or a specific check, please let me know!'"
      ]
     },
     "execution_count": 7,
     "metadata": {},
     "output_type": "execute_result"
    }
   ],
   "source": [
    "response = agent.invoke({\"messages\":\n",
    "            [\n",
    "                {\"role\":\"user\",\"content\":\"Are there duplicates in document\"}\n",
    "                \n",
    "            ]\n",
    "            },\n",
    "            config\n",
    "            )\n",
    "response['messages'][-1].content"
   ]
  }
 ],
 "metadata": {
  "kernelspec": {
   "display_name": "Python 3.13.5 ('venv': venv)",
   "language": "python",
   "name": "python3"
  },
  "language_info": {
   "codemirror_mode": {
    "name": "ipython",
    "version": 3
   },
   "file_extension": ".py",
   "mimetype": "text/x-python",
   "name": "python",
   "nbconvert_exporter": "python",
   "pygments_lexer": "ipython3",
   "version": "3.13.5"
  },
  "orig_nbformat": 4,
  "vscode": {
   "interpreter": {
    "hash": "83953f9690f31260c22943bfc8f50814e3211efb16e7bd73769c2e744886ad92"
   }
  }
 },
 "nbformat": 4,
 "nbformat_minor": 2
}
